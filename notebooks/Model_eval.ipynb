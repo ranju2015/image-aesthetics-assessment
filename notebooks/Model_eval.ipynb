{
 "cells": [
  {
   "cell_type": "code",
   "execution_count": 1,
   "metadata": {
    "collapsed": false,
    "deletable": true,
    "editable": true
   },
   "outputs": [
    {
     "name": "stderr",
     "output_type": "stream",
     "text": [
      "Using TensorFlow backend.\n"
     ]
    }
   ],
   "source": [
    "from keras.models import load_model\n",
    "from imageaesthetics import pipeline\n",
    "from keras.applications.mobilenet import MobileNet, preprocess_input\n",
    "import pandas as pd\n",
    "import numpy as np\n",
    "\n",
    "from keras.preprocessing.image import load_img, img_to_array"
   ]
  },
  {
   "cell_type": "code",
   "execution_count": 3,
   "metadata": {
    "collapsed": true,
    "deletable": true,
    "editable": true
   },
   "outputs": [],
   "source": [
    "\n",
    "from keras import backend as K\n",
    "\n",
    "\n",
    "def earth_mover_loss(y_true, y_pred):\n",
    "    cdf_true = K.cumsum(y_true, axis=-1)\n",
    "    cdf_pred = K.cumsum(y_pred, axis=-1)\n",
    "    emd = K.sqrt(K.mean(K.square(cdf_true - cdf_pred), axis=-1))\n",
    "    return K.mean(emd)\n"
   ]
  },
  {
   "cell_type": "code",
   "execution_count": 4,
   "metadata": {
    "collapsed": true,
    "deletable": true,
    "editable": true
   },
   "outputs": [],
   "source": [
    "import keras.losses\n",
    "keras.losses.earth_mover_loss = earth_mover_loss"
   ]
  },
  {
   "cell_type": "code",
   "execution_count": 5,
   "metadata": {
    "collapsed": true,
    "deletable": true,
    "editable": true
   },
   "outputs": [],
   "source": [
    "def predict(img_filename): \n",
    "    img = load_img(img_filename, target_size=(224, 224))\n",
    "    dir = \"C:/Users/jensl\"\n",
    "    model = load_model(\"{}/model_arch.hdf5\".format(dir))\n",
    "    model_weights_filename = \"{}/model_weights.hdf5\".format(dir)\n",
    "    model.load_weights(model_weights_filename)\n",
    "\n",
    "    x = img_to_array(img)\n",
    "    x = np.expand_dims(x, axis=0)\n",
    "    x = preprocess_input(x)\n",
    "\n",
    "    return model.predict(x, batch_size=1, verbose=0)[0]\n",
    "\n",
    "def mean_score(scores):\n",
    "    si = np.arange(1, 11, 1)\n",
    "    mean = np.sum(scores * si)\n",
    "    return mean"
   ]
  },
  {
   "cell_type": "code",
   "execution_count": 6,
   "metadata": {
    "collapsed": true,
    "deletable": true,
    "editable": true
   },
   "outputs": [],
   "source": [
    "path = 'C:/Users/jensl/Documents/machine-learning-nanodegree/projects/capstone/resources'"
   ]
  },
  {
   "cell_type": "code",
   "execution_count": 9,
   "metadata": {
    "collapsed": true,
    "deletable": true,
    "editable": true
   },
   "outputs": [],
   "source": [
    "image_names = ['date1.jpg', 'date2.jpg', 'airbnb2.jpg', 'airbnb1.jpg',  'food1.jpg', 'food2.jpg']"
   ]
  },
  {
   "cell_type": "code",
   "execution_count": 10,
   "metadata": {
    "collapsed": false,
    "deletable": true,
    "editable": true
   },
   "outputs": [
    {
     "name": "stdout",
     "output_type": "stream",
     "text": [
      "date1.jpg: 3.277816748030773\n",
      "date2.jpg: 3.997033827676205\n",
      "airbnb2.jpg: 3.9086786683092214\n",
      "airbnb1.jpg: 4.23160368137178\n",
      "food1.jpg: 3.98913382138835\n",
      "food2.jpg: 4.669500481162686\n"
     ]
    }
   ],
   "source": [
    "for name in image_names:\n",
    "    print(\"{}: {}\".format(name, mean_score(predict(\"{}/{}\".format(path, name)))))"
   ]
  }
 ],
 "metadata": {
  "anaconda-cloud": {},
  "kernelspec": {
   "display_name": "Python [conda env:dog-projectnogpu]",
   "language": "python",
   "name": "conda-env-dog-projectnogpu-py"
  },
  "language_info": {
   "codemirror_mode": {
    "name": "ipython",
    "version": 3
   },
   "file_extension": ".py",
   "mimetype": "text/x-python",
   "name": "python",
   "nbconvert_exporter": "python",
   "pygments_lexer": "ipython3",
   "version": "3.5.3"
  }
 },
 "nbformat": 4,
 "nbformat_minor": 2
}
