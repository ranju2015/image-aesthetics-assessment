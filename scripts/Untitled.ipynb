{
 "cells": [
  {
   "cell_type": "code",
   "execution_count": 27,
   "metadata": {},
   "outputs": [
    {
     "name": "stdout",
     "output_type": "stream",
     "text": [
      "255511 fies in C:/Users/jensl/Documents/machine-learning-nanodegree/projects/capstone/data/AVA/imgs/images\n"
     ]
    }
   ],
   "source": [
    "import os, os.path\n",
    "\n",
    "path = 'C:/Users/jensl/Documents/machine-learning-nanodegree/projects/capstone/data/AVA/imgs/images'\n",
    "print(\"{} fies in {}\".format(len(os.listdir(path)), path))\n"
   ]
  }
 ],
 "metadata": {
  "kernelspec": {
   "display_name": "Python 3",
   "language": "python",
   "name": "python3"
  },
  "language_info": {
   "codemirror_mode": {
    "name": "ipython",
    "version": 3
   },
   "file_extension": ".py",
   "mimetype": "text/x-python",
   "name": "python",
   "nbconvert_exporter": "python",
   "pygments_lexer": "ipython3",
   "version": "3.6.5"
  }
 },
 "nbformat": 4,
 "nbformat_minor": 2
}
