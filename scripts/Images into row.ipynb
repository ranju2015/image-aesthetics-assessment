{
 "cells": [
  {
   "cell_type": "code",
   "execution_count": 47,
   "metadata": {},
   "outputs": [],
   "source": [
    "import sys\n",
    "from PIL import Image\n",
    "\n",
    "names = ['food', 'airbnb', 'date']\n",
    "img_types = ['jpg', 'PNG', 'PNG']\n",
    "\n",
    "\n",
    "def convert(path):\n",
    "    im = Image.open(path)\n",
    "    return im.convert('RGB')\n",
    "\n",
    "\n",
    "for name in names:\n",
    "    index = names.index(name)\n",
    "    \n",
    "    if img_type.lower() ==  'png':\n",
    "        images = [convert('../resources/{}1.{}'.format(name, img_types[index])), convert('../resources/{}2.{}}'.format(name, img_types[index]))]\n",
    "    else:\n",
    "        images = [Image.open('../resources/{}1.{}'.format(name, img_types[index])), Image.open('../resources/{}2.{}'.format(name, img_types[index]))]\n",
    "\n",
    "    widths, heights = zip(*(i.size for i in images))\n",
    "\n",
    "    total_width = sum(widths)\n",
    "    max_height = max(heights)\n",
    "\n",
    "    new_im = Image.new('RGB', (total_width, max_height))\n",
    "\n",
    "    x_offset = 0\n",
    "    for im in images:\n",
    "      new_im.paste(im, (x_offset,0))\n",
    "      x_offset += im.size[0]\n",
    "        \n",
    "#     size = 400, 400  \n",
    "#     new_im.thumbnail(size, Image.ANTIALIAS)\n",
    "    \n",
    "    new_im.save('../resources/{}.{}'.format(name, 'png'))\n"
   ]
  }
 ],
 "metadata": {
  "kernelspec": {
   "display_name": "Python 2",
   "language": "python",
   "name": "python2"
  },
  "language_info": {
   "codemirror_mode": {
    "name": "ipython",
    "version": 2
   },
   "file_extension": ".py",
   "mimetype": "text/x-python",
   "name": "python",
   "nbconvert_exporter": "python",
   "pygments_lexer": "ipython2",
   "version": "2.7.15"
  }
 },
 "nbformat": 4,
 "nbformat_minor": 2
}
